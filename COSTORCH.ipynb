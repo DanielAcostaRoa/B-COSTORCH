{
  "nbformat": 4,
  "nbformat_minor": 0,
  "metadata": {
    "colab": {
      "name": "COSTORCH.ipynb",
      "provenance": [],
      "include_colab_link": true
    },
    "kernelspec": {
      "name": "python3",
      "display_name": "Python 3"
    },
    "accelerator": "GPU"
  },
  "cells": [
    {
      "cell_type": "markdown",
      "metadata": {
        "id": "view-in-github",
        "colab_type": "text"
      },
      "source": [
        "<a href=\"https://colab.research.google.com/github/DanielAcostaRoa/B-COSTORCH/blob/master/COSTORCH.ipynb\" target=\"_parent\"><img src=\"https://colab.research.google.com/assets/colab-badge.svg\" alt=\"Open In Colab\"/></a>"
      ]
    },
    {
      "cell_type": "code",
      "metadata": {
        "id": "K004IjG3QkK0"
      },
      "source": [
        "import cv2\n",
        "import torch\n",
        "import numpy as np\n",
        "import torch.nn as nn\n",
        "import torch.nn.functional as F\n",
        "from google.colab.patches import cv2_imshow\n",
        "import matplotlib.pyplot as plt\n",
        "!pip install kornia\n",
        "import kornia"
      ],
      "execution_count": null,
      "outputs": []
    },
    {
      "cell_type": "code",
      "metadata": {
        "id": "QAJKtZvlKRRA"
      },
      "source": [
        "torch.manual_seed(1)\n",
        "device = torch.device(\"cuda:0\" if torch.cuda.is_available() else \"cpu\")\n",
        "print(device)"
      ],
      "execution_count": null,
      "outputs": []
    },
    {
      "cell_type": "code",
      "metadata": {
        "id": "nJYzlT4Ru1-p",
        "colab": {
          "base_uri": "https://localhost:8080/",
          "height": 35
        },
        "outputId": "c572197a-d83e-48af-a0a0-c8d579205b3e"
      },
      "source": [
        "name = \"/content/imp1_3k.jpg\"\n",
        "image = cv2.imread(name,0)\n",
        "print(image.shape)"
      ],
      "execution_count": null,
      "outputs": [
        {
          "output_type": "stream",
          "text": [
            "(324, 452)\n"
          ],
          "name": "stdout"
        }
      ]
    },
    {
      "cell_type": "code",
      "metadata": {
        "id": "fdmxHHY7FDax"
      },
      "source": [
        "class BCOSFIRE:\n",
        "  def __init__(self,w,l,sizeStep,nRotaciones,sigma0,alpha):\n",
        "    self.sigmaDoG = w / 1.92\n",
        "    self.rho = np.arange(0,int(l/2)+1,sizeStep)\n",
        "    self.phi = [np.pi/2.0,np.pi/2.0+np.pi]\n",
        "    self.sigma0 = sigma0\n",
        "    self.alpha = alpha    \n",
        "    self.sigmaBlur = self.rho*self.alpha + self.sigma0\n",
        "    self.discrInvRot = 6\n",
        "    self.sizeDoG = int(max(self.sigmaDoG))*6+1 if int(max(self.sigmaDoG))*6+1 <= 25 else 25\n",
        "    self.sizeBlur = int(max(self.sigmaBlur))*6+1 if int(max(self.sigmaBlur))*6+1 <=25 else 25\n",
        "    self.convDoGKernels = torch.stack([self.getDoGKernel(self.sizeDoG,sig) for sig in self.sigmaDoG],0)\n",
        "    self.convBlurKernels= torch.stack(len(self.sigmaDoG)*[self.getGaussianKernel(self.sizeBlur,sig) for sig in self.sigmaBlur],1)\n",
        "    self.convShiftKernels = [(self.getAffineTransformation(self.phi[0]+i*(np.pi/self.discrInvRot)),self.getAffineTransformation(self.phi[1]+i*(np.pi/self.discrInvRot))) for i in range(self.discrInvRot)]\n",
        "\n",
        "  def getDoGKernel(self,ksize,sig):\n",
        "    gaussianKernel_0 = kornia.get_gaussian_kernel2d((ksize, ksize), (0.5*sig, 0.5*sig))\n",
        "    gaussianKernel_1 = kornia.get_gaussian_kernel2d((ksize, ksize), (sig, sig))\n",
        "    return torch.unsqueeze(gaussianKernel_0.float()-gaussianKernel_1.float(),0)\n",
        "  \n",
        "  def getGaussianKernel(self,ksize,sig):\n",
        "    return torch.unsqueeze(kornia.get_gaussian_kernel2d((ksize, ksize), (sig, sig)).float(),0)\n",
        "\n",
        "  def shift_bankImages(self,imageBank,idx_angInv,idx_angShift):\n",
        "    return kornia.warp_affine(imageBank,self.convShiftLayers[idx_angInv][idx_angShift],(imageBank.shape[3],imageBank.shape[4]))\n",
        "  \n",
        "  def geometricMean(self,shiftImageBank):\n",
        "    producto = torch.prod(shiftImageBank,1)\n",
        "    producto.pow_(shiftImageBank.shape[1])\n",
        "    return producto\n",
        "\n",
        "  def getAffineTransformation(self,angulo):\n",
        "    transf_matrix = torch.zeros(len(self.rho),2,3)\n",
        "    for i in range(len(self.rho)):\n",
        "      transf_matrix[i][0][0] = 1\n",
        "      transf_matrix[i][1][1] = 1\n",
        "      transf_matrix[i][0][2] = -self.rho[i]*np.cos(angulo)\n",
        "      transf_matrix[i][1][2] = self.rho[i]*np.sin(angulo)\n",
        "    return transf_matrix\n",
        "\n",
        "  def multiscaleResponse(self,batchBankImage):\n",
        "    response = torch.zeros(batchBankImage.shape[0],len(self.sigma),batchBankImage.shape[2],batchBankImage.shape[3])\n",
        "    for im in range(len(batchBankImage)):\n",
        "      for i in range(self.discrInvRot):\n",
        "        shift0 = shift_bankImages(batchBankImage[im].view(-1,len(self.rho),batchBankImage[im].shape[2],batchBankImage[im].shape[3]).transpose(0,1),i,0)\n",
        "        shift1 = shift_bankImages(batchBankImage[im].view(-1,len(self.rho),batchBankImage[im].shape[3],batchBankImage[im].shape[4]).transpose(0,1),i,0)\n",
        "        shiftBank = torch.stack((shift0.transpose(0,1),shift1.transpose(0,1)),1)\n",
        "        torch.max(response[im],self.geometricMean(shiftBank.view()))\n",
        "    return response\n",
        "\n",
        "  def BCOSFIRE_Response(self,inputImage):\n",
        "    img = torch.tensor_like(inputImage)\n",
        "    F.normalize(inputImage,p=1,dim=1,out=img)\n",
        "    img = torch.unsqueeze(img.float(), dim=0)  # Bx1xHxW\n",
        "    dog_response = F.conv2d(img,self.convDoGKernels, bias=False, padding = (self.sizeDoG-1)/2.0)\n",
        "    F.relu(dog_response,inplace=True)\n",
        "    blur_response = F.conv2d(dog_response,self.convBlurKernels, groups = len(self.sigmaDoG), bias=False, padding = (self.sizeBlur-1)/2.0)\n",
        "    F.relu(blur_response,inplace=True)\n",
        "    filter_response = self.multiscaleResponse(blur_response)\n",
        "    return filter_resonse\n"
      ],
      "execution_count": null,
      "outputs": []
    },
    {
      "cell_type": "code",
      "metadata": {
        "id": "EJERcq65L69w"
      },
      "source": [
        "filtro1 = BCOSFIRE(np.array([7]),30,1,6,0.1,0.9)"
      ],
      "execution_count": null,
      "outputs": []
    },
    {
      "cell_type": "code",
      "metadata": {
        "id": "VY5SYFrXMHNx",
        "colab": {
          "base_uri": "https://localhost:8080/",
          "height": 35
        },
        "outputId": "47a3bf8e-320b-4cc1-c9bc-411418fe0f88"
      },
      "source": [
        "filtro1.convDoGKernels.shape"
      ],
      "execution_count": null,
      "outputs": [
        {
          "output_type": "execute_result",
          "data": {
            "text/plain": [
              "torch.Size([1, 1, 19, 19])"
            ]
          },
          "metadata": {
            "tags": []
          },
          "execution_count": 113
        }
      ]
    },
    {
      "cell_type": "code",
      "metadata": {
        "id": "Ei9hxC_RL72O",
        "colab": {
          "base_uri": "https://localhost:8080/",
          "height": 35
        },
        "outputId": "9f2ba7dd-1fdb-44c8-8bb2-078d6cb3c424"
      },
      "source": [
        "filtro1.convBlurKernels.shape"
      ],
      "execution_count": null,
      "outputs": [
        {
          "output_type": "execute_result",
          "data": {
            "text/plain": [
              "torch.Size([1, 16, 25, 25])"
            ]
          },
          "metadata": {
            "tags": []
          },
          "execution_count": 114
        }
      ]
    },
    {
      "cell_type": "code",
      "metadata": {
        "id": "-T6Q2d01Cjck",
        "colab": {
          "base_uri": "https://localhost:8080/",
          "height": 35
        },
        "outputId": "e1d3b56b-9298-43e0-acca-bf93cd1180cc"
      },
      "source": [
        "filtro1.rho"
      ],
      "execution_count": null,
      "outputs": [
        {
          "output_type": "execute_result",
          "data": {
            "text/plain": [
              "array([ 0,  1,  2,  3,  4,  5,  6,  7,  8,  9, 10, 11, 12, 13, 14, 15])"
            ]
          },
          "metadata": {
            "tags": []
          },
          "execution_count": 120
        }
      ]
    },
    {
      "cell_type": "code",
      "metadata": {
        "id": "ivXLhZY7ISe7",
        "colab": {
          "base_uri": "https://localhost:8080/",
          "height": 35
        },
        "outputId": "8b381e19-78fe-4d9e-9348-6422f0fe6c7e"
      },
      "source": [
        "filtro1.convShiftKernels[0][1].shape"
      ],
      "execution_count": null,
      "outputs": [
        {
          "output_type": "execute_result",
          "data": {
            "text/plain": [
              "torch.Size([16, 2, 3])"
            ]
          },
          "metadata": {
            "tags": []
          },
          "execution_count": 121
        }
      ]
    },
    {
      "cell_type": "code",
      "metadata": {
        "id": "UfqoOEhoIScK"
      },
      "source": [
        ""
      ],
      "execution_count": null,
      "outputs": []
    },
    {
      "cell_type": "code",
      "metadata": {
        "id": "57NYjWJ0X1UL"
      },
      "source": [
        ""
      ],
      "execution_count": null,
      "outputs": []
    },
    {
      "cell_type": "code",
      "metadata": {
        "id": "2RJ7gdLAX1nh"
      },
      "source": [
        ""
      ],
      "execution_count": null,
      "outputs": []
    },
    {
      "cell_type": "code",
      "metadata": {
        "id": "qxHoq1q-X11s",
        "colab": {
          "base_uri": "https://localhost:8080/",
          "height": 35
        },
        "outputId": "056655b1-9899-4426-af7c-284c7f556e43"
      },
      "source": [
        "listA = [0]\n",
        "listB = listA\n",
        "listB = [0,1]\n",
        "listB.append(1)\n",
        "print(listA)"
      ],
      "execution_count": null,
      "outputs": [
        {
          "output_type": "stream",
          "text": [
            "[0]\n"
          ],
          "name": "stdout"
        }
      ]
    },
    {
      "cell_type": "code",
      "metadata": {
        "id": "u03FWitTX2Fx"
      },
      "source": [
        ""
      ],
      "execution_count": null,
      "outputs": []
    },
    {
      "cell_type": "code",
      "metadata": {
        "id": "46I7GKnwX2ZC"
      },
      "source": [
        ""
      ],
      "execution_count": null,
      "outputs": []
    },
    {
      "cell_type": "code",
      "metadata": {
        "id": "1sLMKD__ISYG"
      },
      "source": [
        ""
      ],
      "execution_count": null,
      "outputs": []
    },
    {
      "cell_type": "code",
      "metadata": {
        "id": "96x6PCnoFlfg"
      },
      "source": [
        "def RUSTICO(imagen,w,l,n,sigma0,alpha,la,eps,epsA,discr=12):\n",
        "  resp_P, banc_P = mult_bcosfire(v,w,l,n,sigma0[0],alpha[0],discr,0)\n",
        "  resp_N, banc_N = mult_bcosfire(v,la*w,l,n,sigma0[1],alpha[1],discr,1)\n",
        "  rows,cols = imagen.shape\n",
        "  resp_RUSTICO = []\n",
        "  respF = np.zeros((rows,cols))\n",
        "  for i in range(discr):\n",
        "    newR = np.maximum(0, epsA*banc_P[i] - eps*banc_N[i])\n",
        "    resp_RUSTICO.append(newR)\n",
        "    respF= np.maximum(respF,newR)\n",
        "  return respF, resp_RUSTICO, resp_P, resp_N"
      ],
      "execution_count": null,
      "outputs": []
    },
    {
      "cell_type": "code",
      "metadata": {
        "id": "ixWHnqQMFszt"
      },
      "source": [
        "r, b, rp, rn = RUSTICO(v,13,51,1, (0.0,0.0), (1.1,1.1), 5.1, 2.5, 1.0, 8 )\n",
        "metr = metr1_ROC(r,gt)"
      ],
      "execution_count": null,
      "outputs": []
    },
    {
      "cell_type": "code",
      "metadata": {
        "id": "E1a9uTpMFxpj"
      },
      "source": [
        "cv2_imshow(r)"
      ],
      "execution_count": null,
      "outputs": []
    },
    {
      "cell_type": "code",
      "metadata": {
        "id": "3N4Cu4-LJS4i"
      },
      "source": [
        "v_filtrada = Kuwahara(v,5)\n",
        "cv2_imshow(v_filtrada)"
      ],
      "execution_count": null,
      "outputs": []
    },
    {
      "cell_type": "code",
      "metadata": {
        "id": "gwySHROFF25w"
      },
      "source": [
        "r1, b1, rp1, rn1 = RUSTICO(v_filtrada, 15, 71, 1, (0.0,0.0), (0.9,0.9), 8.1, 1.1, 1.0, 8 )\n",
        "metr = metr1_ROC(r1,gt) "
      ],
      "execution_count": null,
      "outputs": []
    },
    {
      "cell_type": "code",
      "metadata": {
        "id": "tLFgIORAJoOn"
      },
      "source": [
        "cv2_imshow(r1)"
      ],
      "execution_count": null,
      "outputs": []
    },
    {
      "cell_type": "code",
      "metadata": {
        "id": "9JBtbXGFJuhN"
      },
      "source": [
        ""
      ],
      "execution_count": null,
      "outputs": []
    }
  ]
}